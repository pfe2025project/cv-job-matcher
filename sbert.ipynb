{
 "cells": [
  {
   "cell_type": "markdown",
   "id": "8d8239a6",
   "metadata": {},
   "source": [
    "# entraînement de SBERT"
   ]
  },
  {
   "cell_type": "markdown",
   "id": "bf49c9bd",
   "metadata": {},
   "source": [
    "### 🏁 1. Chargement des données et prétraitement de base"
   ]
  },
  {
   "cell_type": "code",
   "execution_count": 12,
   "id": "6e0b889a",
   "metadata": {},
   "outputs": [],
   "source": [
    "\n",
    "\n",
    "import pandas as pd\n",
    "\n",
    "# Charger le dataset\n",
    "df = pd.read_csv(\"labeled_data.csv\")"
   ]
  },
  {
   "cell_type": "code",
   "execution_count": 13,
   "id": "d1642b71",
   "metadata": {},
   "outputs": [
    {
     "data": {
      "text/html": [
       "<div>\n",
       "<style scoped>\n",
       "    .dataframe tbody tr th:only-of-type {\n",
       "        vertical-align: middle;\n",
       "    }\n",
       "\n",
       "    .dataframe tbody tr th {\n",
       "        vertical-align: top;\n",
       "    }\n",
       "\n",
       "    .dataframe thead th {\n",
       "        text-align: right;\n",
       "    }\n",
       "</style>\n",
       "<table border=\"1\" class=\"dataframe\">\n",
       "  <thead>\n",
       "    <tr style=\"text-align: right;\">\n",
       "      <th></th>\n",
       "      <th>offer_text</th>\n",
       "      <th>cv_text</th>\n",
       "      <th>score</th>\n",
       "    </tr>\n",
       "  </thead>\n",
       "  <tbody>\n",
       "    <tr>\n",
       "      <th>0</th>\n",
       "      <td>Title: Kubernetes Engineer, Senior - Remote\\n ...</td>\n",
       "      <td>Résumé: Areas of expertise â¢ Big Data Ecosys...</td>\n",
       "      <td>0.23</td>\n",
       "    </tr>\n",
       "    <tr>\n",
       "      <th>1</th>\n",
       "      <td>Title: Senior Principal Azure Cloud Engineer\\n...</td>\n",
       "      <td>Résumé: â Willingness to accept the challeng...</td>\n",
       "      <td>0.15</td>\n",
       "    </tr>\n",
       "    <tr>\n",
       "      <th>2</th>\n",
       "      <td>Title: DevOps Engineer (RHEL)\\n        Company...</td>\n",
       "      <td>Résumé: CORE COMPETENCIES ~ Ant ~ Maven ~ GIT ...</td>\n",
       "      <td>0.42</td>\n",
       "    </tr>\n",
       "    <tr>\n",
       "      <th>3</th>\n",
       "      <td>Title: Site Reliability Engineer - REST API\\n ...</td>\n",
       "      <td>Résumé: IT SKILLS Languages: C (Basic), JAVA (...</td>\n",
       "      <td>0.42</td>\n",
       "    </tr>\n",
       "    <tr>\n",
       "      <th>4</th>\n",
       "      <td>Title: Lead Back End Engineer (Java, Spring, G...</td>\n",
       "      <td>Résumé: Education Details \\n\\n B.C.A Bachelor ...</td>\n",
       "      <td>0.23</td>\n",
       "    </tr>\n",
       "  </tbody>\n",
       "</table>\n",
       "</div>"
      ],
      "text/plain": [
       "                                          offer_text  \\\n",
       "0  Title: Kubernetes Engineer, Senior - Remote\\n ...   \n",
       "1  Title: Senior Principal Azure Cloud Engineer\\n...   \n",
       "2  Title: DevOps Engineer (RHEL)\\n        Company...   \n",
       "3  Title: Site Reliability Engineer - REST API\\n ...   \n",
       "4  Title: Lead Back End Engineer (Java, Spring, G...   \n",
       "\n",
       "                                             cv_text  score  \n",
       "0  Résumé: Areas of expertise â¢ Big Data Ecosys...   0.23  \n",
       "1  Résumé: â Willingness to accept the challeng...   0.15  \n",
       "2  Résumé: CORE COMPETENCIES ~ Ant ~ Maven ~ GIT ...   0.42  \n",
       "3  Résumé: IT SKILLS Languages: C (Basic), JAVA (...   0.42  \n",
       "4  Résumé: Education Details \\n\\n B.C.A Bachelor ...   0.23  "
      ]
     },
     "execution_count": 13,
     "metadata": {},
     "output_type": "execute_result"
    }
   ],
   "source": [
    "\n",
    "# Afficher les premières lignes\n",
    "df.head()\n"
   ]
  },
  {
   "cell_type": "markdown",
   "id": "d7224ecb",
   "metadata": {},
   "source": [
    "###   Nettoyage de base \n"
   ]
  },
  {
   "cell_type": "code",
   "execution_count": 14,
   "id": "2a4931cc",
   "metadata": {},
   "outputs": [
    {
     "name": "stdout",
     "output_type": "stream",
     "text": [
      "\n",
      "Avant suppression des NaN: (403, 3)\n",
      "Après suppression des NaN: (401, 3)\n",
      "\n",
      "Avant suppression des doublons: (401, 3)\n",
      "Après suppression des doublons: (395, 3)\n"
     ]
    }
   ],
   "source": [
    "# Supprimer les lignes avec des valeurs nulles\n",
    "print(f\"\\nAvant suppression des NaN: {df.shape}\")\n",
    "df = df.dropna()\n",
    "print(f\"Après suppression des NaN: {df.shape}\")\n",
    "\n",
    "# Supprimer les lignes dupliquées\n",
    "print(f\"\\nAvant suppression des doublons: {df.shape}\")\n",
    "df = df.drop_duplicates()\n",
    "print(f\"Après suppression des doublons: {df.shape}\")\n"
   ]
  },
  {
   "cell_type": "code",
   "execution_count": 15,
   "id": "b7a73488",
   "metadata": {},
   "outputs": [
    {
     "name": "stdout",
     "output_type": "stream",
     "text": [
      "\n",
      "✅ Nettoyage terminé.\n"
     ]
    },
    {
     "data": {
      "text/html": [
       "<div>\n",
       "<style scoped>\n",
       "    .dataframe tbody tr th:only-of-type {\n",
       "        vertical-align: middle;\n",
       "    }\n",
       "\n",
       "    .dataframe tbody tr th {\n",
       "        vertical-align: top;\n",
       "    }\n",
       "\n",
       "    .dataframe thead th {\n",
       "        text-align: right;\n",
       "    }\n",
       "</style>\n",
       "<table border=\"1\" class=\"dataframe\">\n",
       "  <thead>\n",
       "    <tr style=\"text-align: right;\">\n",
       "      <th></th>\n",
       "      <th>offer_text</th>\n",
       "      <th>cv_text</th>\n",
       "      <th>score</th>\n",
       "    </tr>\n",
       "  </thead>\n",
       "  <tbody>\n",
       "    <tr>\n",
       "      <th>0</th>\n",
       "      <td>Title: Kubernetes Engineer, Senior - Remote\\n ...</td>\n",
       "      <td>Résumé: Areas of expertise â¢ Big Data Ecosys...</td>\n",
       "      <td>0.23</td>\n",
       "    </tr>\n",
       "    <tr>\n",
       "      <th>1</th>\n",
       "      <td>Title: Senior Principal Azure Cloud Engineer\\n...</td>\n",
       "      <td>Résumé: â Willingness to accept the challeng...</td>\n",
       "      <td>0.15</td>\n",
       "    </tr>\n",
       "    <tr>\n",
       "      <th>2</th>\n",
       "      <td>Title: DevOps Engineer (RHEL)\\n        Company...</td>\n",
       "      <td>Résumé: CORE COMPETENCIES ~ Ant ~ Maven ~ GIT ...</td>\n",
       "      <td>0.42</td>\n",
       "    </tr>\n",
       "    <tr>\n",
       "      <th>3</th>\n",
       "      <td>Title: Site Reliability Engineer - REST API\\n ...</td>\n",
       "      <td>Résumé: IT SKILLS Languages: C (Basic), JAVA (...</td>\n",
       "      <td>0.42</td>\n",
       "    </tr>\n",
       "    <tr>\n",
       "      <th>4</th>\n",
       "      <td>Title: Lead Back End Engineer (Java, Spring, G...</td>\n",
       "      <td>Résumé: Education Details \\n\\n B.C.A Bachelor ...</td>\n",
       "      <td>0.23</td>\n",
       "    </tr>\n",
       "  </tbody>\n",
       "</table>\n",
       "</div>"
      ],
      "text/plain": [
       "                                          offer_text  \\\n",
       "0  Title: Kubernetes Engineer, Senior - Remote\\n ...   \n",
       "1  Title: Senior Principal Azure Cloud Engineer\\n...   \n",
       "2  Title: DevOps Engineer (RHEL)\\n        Company...   \n",
       "3  Title: Site Reliability Engineer - REST API\\n ...   \n",
       "4  Title: Lead Back End Engineer (Java, Spring, G...   \n",
       "\n",
       "                                             cv_text  score  \n",
       "0  Résumé: Areas of expertise â¢ Big Data Ecosys...   0.23  \n",
       "1  Résumé: â Willingness to accept the challeng...   0.15  \n",
       "2  Résumé: CORE COMPETENCIES ~ Ant ~ Maven ~ GIT ...   0.42  \n",
       "3  Résumé: IT SKILLS Languages: C (Basic), JAVA (...   0.42  \n",
       "4  Résumé: Education Details \\n\\n B.C.A Bachelor ...   0.23  "
      ]
     },
     "execution_count": 15,
     "metadata": {},
     "output_type": "execute_result"
    }
   ],
   "source": [
    "# Réinitialiser les index\n",
    "df = df.reset_index(drop=True)\n",
    "\n",
    "# Vérification finale\n",
    "print(\"\\n✅ Nettoyage terminé.\")\n",
    "df.head()"
   ]
  },
  {
   "cell_type": "markdown",
   "id": "913c06b4",
   "metadata": {},
   "source": [
    "###   2. Petite EDA sur les scores"
   ]
  },
  {
   "cell_type": "code",
   "execution_count": 16,
   "id": "2b48e7e2",
   "metadata": {},
   "outputs": [],
   "source": [
    "import matplotlib.pyplot as plt\n",
    "import seaborn as sns"
   ]
  },
  {
   "cell_type": "code",
   "execution_count": 17,
   "id": "9288e7c1",
   "metadata": {},
   "outputs": [
    {
     "name": "stdout",
     "output_type": "stream",
     "text": [
      "\n",
      " Statistiques sur les scores:\n",
      "count    395.000000\n",
      "mean       0.266506\n",
      "std        0.151597\n",
      "min        0.020000\n",
      "25%        0.120000\n",
      "50%        0.230000\n",
      "75%        0.420000\n",
      "max        0.720000\n",
      "Name: score, dtype: float64\n"
     ]
    },
    {
     "data": {
      "image/png": "[encoded data removed]",
      "text/plain": [
       "<Figure size 800x500 with 1 Axes>"
      ]
     },
     "metadata": {},
     "output_type": "display_data"
    }
   ],
   "source": [
    "# Statistiques descriptives\n",
    "print(\"\\n Statistiques sur les scores:\")\n",
    "print(df['score'].describe())\n",
    "\n",
    "# Distribution des scores\n",
    "plt.figure(figsize=(8,5))\n",
    "sns.histplot(df['score'], bins=30, kde=True, color='skyblue')\n",
    "plt.title('Distribution des scores')\n",
    "plt.xlabel('Score')\n",
    "plt.ylabel('Nombre de paires')\n",
    "plt.grid(True)\n",
    "plt.show()"
   ]
  },
  {
   "cell_type": "code",
   "execution_count": 18,
   "id": "191b4ae3",
   "metadata": {},
   "outputs": [],
   "source": [
    "# Ajouter 0.1 à tous les scores\n",
    "df['score'] = df['score'] + 0.1"
   ]
  },
  {
   "cell_type": "code",
   "execution_count": 19,
   "id": "942eacd7",
   "metadata": {},
   "outputs": [
    {
     "data": {
      "text/html": [
       "<div>\n",
       "<style scoped>\n",
       "    .dataframe tbody tr th:only-of-type {\n",
       "        vertical-align: middle;\n",
       "    }\n",
       "\n",
       "    .dataframe tbody tr th {\n",
       "        vertical-align: top;\n",
       "    }\n",
       "\n",
       "    .dataframe thead th {\n",
       "        text-align: right;\n",
       "    }\n",
       "</style>\n",
       "<table border=\"1\" class=\"dataframe\">\n",
       "  <thead>\n",
       "    <tr style=\"text-align: right;\">\n",
       "      <th></th>\n",
       "      <th>offer_text</th>\n",
       "      <th>cv_text</th>\n",
       "      <th>score</th>\n",
       "    </tr>\n",
       "  </thead>\n",
       "  <tbody>\n",
       "    <tr>\n",
       "      <th>0</th>\n",
       "      <td>Title: Kubernetes Engineer, Senior - Remote\\n ...</td>\n",
       "      <td>Résumé: Areas of expertise â¢ Big Data Ecosys...</td>\n",
       "      <td>0.33</td>\n",
       "    </tr>\n",
       "    <tr>\n",
       "      <th>1</th>\n",
       "      <td>Title: Senior Principal Azure Cloud Engineer\\n...</td>\n",
       "      <td>Résumé: â Willingness to accept the challeng...</td>\n",
       "      <td>0.25</td>\n",
       "    </tr>\n",
       "    <tr>\n",
       "      <th>2</th>\n",
       "      <td>Title: DevOps Engineer (RHEL)\\n        Company...</td>\n",
       "      <td>Résumé: CORE COMPETENCIES ~ Ant ~ Maven ~ GIT ...</td>\n",
       "      <td>0.52</td>\n",
       "    </tr>\n",
       "    <tr>\n",
       "      <th>3</th>\n",
       "      <td>Title: Site Reliability Engineer - REST API\\n ...</td>\n",
       "      <td>Résumé: IT SKILLS Languages: C (Basic), JAVA (...</td>\n",
       "      <td>0.52</td>\n",
       "    </tr>\n",
       "    <tr>\n",
       "      <th>4</th>\n",
       "      <td>Title: Lead Back End Engineer (Java, Spring, G...</td>\n",
       "      <td>Résumé: Education Details \\n\\n B.C.A Bachelor ...</td>\n",
       "      <td>0.33</td>\n",
       "    </tr>\n",
       "  </tbody>\n",
       "</table>\n",
       "</div>"
      ],
      "text/plain": [
       "                                          offer_text  \\\n",
       "0  Title: Kubernetes Engineer, Senior - Remote\\n ...   \n",
       "1  Title: Senior Principal Azure Cloud Engineer\\n...   \n",
       "2  Title: DevOps Engineer (RHEL)\\n        Company...   \n",
       "3  Title: Site Reliability Engineer - REST API\\n ...   \n",
       "4  Title: Lead Back End Engineer (Java, Spring, G...   \n",
       "\n",
       "                                             cv_text  score  \n",
       "0  Résumé: Areas of expertise â¢ Big Data Ecosys...   0.33  \n",
       "1  Résumé: â Willingness to accept the challeng...   0.25  \n",
       "2  Résumé: CORE COMPETENCIES ~ Ant ~ Maven ~ GIT ...   0.52  \n",
       "3  Résumé: IT SKILLS Languages: C (Basic), JAVA (...   0.52  \n",
       "4  Résumé: Education Details \\n\\n B.C.A Bachelor ...   0.33  "
      ]
     },
     "execution_count": 19,
     "metadata": {},
     "output_type": "execute_result"
    }
   ],
   "source": [
    "df.head()"
   ]
  },
  {
   "cell_type": "markdown",
   "id": "875e6551",
   "metadata": {},
   "source": [
    "### Prétraitement des Textes"
   ]
  },
  {
   "cell_type": "code",
   "execution_count": 20,
   "id": "d67cb2d8",
   "metadata": {},
   "outputs": [],
   "source": [
    "import re\n",
    "\n",
    "def preprocess(text):\n",
    "    # Mettre tout en minuscule\n",
    "    text = text.lower()\n",
    "    \n",
    "    # Remplacer les retours à la ligne par un espace\n",
    "    text = text.replace('\\n', ' ').replace('\\r', ' ')\n",
    "    \n",
    "    # Supprimer les caractères spéciaux (garder lettres, chiffres, ponctuations simples)\n",
    "    text = re.sub(r'[^a-z0-9\\s.,;!?]', ' ', text)\n",
    "    \n",
    "    # Supprimer les espaces multiples\n",
    "    text = re.sub(r'\\s+', ' ', text)\n",
    "    \n",
    "    # Supprimer les espaces au début et à la fin\n",
    "    text = text.strip()\n",
    "    \n",
    "    return text\n"
   ]
  },
  {
   "cell_type": "code",
   "execution_count": 22,
   "id": "cae23cc0",
   "metadata": {},
   "outputs": [],
   "source": [
    "df['offer_text'] = df['offer_text'].apply(preprocess)\n",
    "df['cv_text'] = df['cv_text'].apply(preprocess)\n"
   ]
  },
  {
   "cell_type": "code",
   "execution_count": null,
   "id": "f3b253b7",
   "metadata": {},
   "outputs": [
    {
     "data": {
      "text/plain": [
       "'r sum areas of expertise big data ecosystems hadoop hdfs, mapreduce, hive, pig, sqoop, hbase oozie, spark, pyspark, hue and having knowledge on cassandra programming languages python, core java and have an idea on scala databases oracle 10g, mysql, sqlserver nosql hbase, cassandra tools eclipse, toad, ftp, tectia, putty, autosys, anaconda, jupyter notebool and devops rtc, rlm. scripting languages jsp platforms windows, unixeducation details m.tech it dbs b.tech cse srm university software engineer software engineer larsen and toubro skill details company details company larsen and toubro description worked as a software engineer in technosoft corporation, chennai from aug 2015 to sep 2016. company current project description duration september 2016 to till date vendor citi bank description citibank s citi anti money laundering aml transaction monitoring tm program is a future state solution and a rules based system for transaction monitoring of icg markets business. roles and responesbilities building and providing domain knowledge for anti money laundering among team members. the layered architecture has data warehouse and workspace layers which are used by business analysts. actively involved in designing of star schema model involving various dimensions and fact tables. designed scd2 for maintaining history of the dim data. developing hive queries for mapping data between different layers of architecture, and it s usage in oozie workflows. integration with data quality and reconciliation module. regression and integration testing of solution for any issues in integration with other modules and effectively testing the data flow from layer to layer. transaction monitoring system development to generate alerts for the suspicious and fraudulent transactions based on requirements provide by bas. developing spark jobs for various business rules. learning machine learning , which will be used further in the project for developing an effective model for fraud detection for anti money laundering system. scheduling jobs using autosys tool. deployment and code management using rtc and rlm release lifecycle management hadoop developer current project prts ran environment hadoop 2.x, hdfs, yarn, hive, sqoop, hbase, tez, tableau, sqlserver, teradata cluster size 96 node cluster. distribution horton works hdp2.3 company alcatel lucent description 1x and ruckus wireless description the scope of this project is to maintain and store the operational and parameters data collected from the multiple vendors networks by the mediation team into the oms data store and make it available for rf engineers to boost the network performance. responsibilities working with hadoop distributed file system. involved in importing data from mysql to hdfs using sqoop. involved in creating hive tables, loading with data and writing hive queries which will run on top of tez execution engine. involved in preparing test cases document. involved in integrating hive and hbase to store the operational data. monitoring the jobs through oozie. company current project description anti money laundering environment hadoop 2.x, hdfs, yarn, hive, oozie, spark, unix, autosys, python, rtc, rlm, etl framwe work cluster size 56 node cluster. distribution cloudera 5.9.14'"
      ]
     },
     "execution_count": 28,
     "metadata": {},
     "output_type": "execute_result"
    }
   ],
   "source": []
  }
 ],
 "metadata": {
  "kernelspec": {
   "display_name": "Python 3",
   "language": "python",
   "name": "python3"
  },
  "language_info": {
   "codemirror_mode": {
    "name": "ipython",
    "version": 3
   },
   "file_extension": ".py",
   "mimetype": "text/x-python",
   "name": "python",
   "nbconvert_exporter": "python",
   "pygments_lexer": "ipython3",
   "version": "3.12.6"
  }
 },
 "nbformat": 4,
 "nbformat_minor": 5
}
